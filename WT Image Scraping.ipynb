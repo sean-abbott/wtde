{
 "cells": [
  {
   "cell_type": "code",
   "execution_count": 13,
   "id": "eligible-surfing",
   "metadata": {},
   "outputs": [],
   "source": [
    "# get the war thunder parts of the image\n",
    "from PIL import Image\n",
    "\n",
    "im = Image.open('pictures_to_scrape/Screenshot from 2021-01-25 13-54-03.png')\n",
    "wt_im = im.crop((0, 0, im.width/2, im.height))\n",
    "\n",
    "wt_im.show()"
   ]
  },
  {
   "cell_type": "code",
   "execution_count": 15,
   "id": "quick-arlington",
   "metadata": {},
   "outputs": [],
   "source": [
    "# get the mission map and type image\n",
    "\n",
    "box = (wt_im.width/3, 0, wt_im.width-(wt_im.width/3), 170)\n",
    "\n",
    "map_type_im = wt_im.crop(box)\n",
    "map_type_im.show()"
   ]
  },
  {
   "cell_type": "code",
   "execution_count": 18,
   "id": "given-story",
   "metadata": {},
   "outputs": [
    {
     "name": "stdout",
     "output_type": "stream",
     "text": [
      "Map: Vietnam, Type: Domination\n"
     ]
    }
   ],
   "source": [
    "# extract the text from the map type image\n",
    "import pytesseract\n",
    "import re\n",
    "\n",
    "map_and_type_str = pytesseract.image_to_string(map_type_im)\n",
    "map_type = re.search('\\[([^\\]]*)\\]', map_and_type_str).group(1)\n",
    "map_name = re.search('\\] ([^\\n]*)\\n', map_and_type_str).group(1)\n",
    "print('Map: {}, Type: {}'.format(map_name, map_type))\n"
   ]
  },
  {
   "cell_type": "code",
   "execution_count": 5,
   "id": "million-harrison",
   "metadata": {},
   "outputs": [
    {
     "data": {
      "image/png": "[encoded data removed]",
      "text/plain": [
       "<Figure size 432x288 with 1 Axes>"
      ]
     },
     "metadata": {},
     "output_type": "display_data"
    }
   ],
   "source": [
    "import wtde\n",
    "header_img = wtde.header_img_from_path('pictures_to_scrape/NavalExample/Screenshot from 2021-02-02 16-37-03.png')\n",
    "wtde.debug_display_header_with_naval(header_img)"
   ]
  },
  {
   "cell_type": "code",
   "execution_count": null,
   "id": "functional-supplement",
   "metadata": {},
   "outputs": [],
   "source": []
  }
 ],
 "metadata": {
  "kernelspec": {
   "display_name": "Python 3",
   "language": "python",
   "name": "python3"
  },
  "language_info": {
   "codemirror_mode": {
    "name": "ipython",
    "version": 3
   },
   "file_extension": ".py",
   "mimetype": "text/x-python",
   "name": "python",
   "nbconvert_exporter": "python",
   "pygments_lexer": "ipython3",
   "version": "3.8.5"
  }
 },
 "nbformat": 4,
 "nbformat_minor": 5
}
